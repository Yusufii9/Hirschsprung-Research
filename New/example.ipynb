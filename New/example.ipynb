{
 "cells": [
  {
   "cell_type": "markdown",
   "metadata": {},
   "source": [
    "# Example Usage\n",
    "\n",
    "This is a basic example using the torchvision COCO dataset from coco.py, it assumes that you've already downloaded the COCO images and annotations JSON.  You'll notice that the scale augmentations are quite extreme."
   ]
  },
  {
   "cell_type": "code",
   "execution_count": 1,
   "metadata": {},
   "outputs": [],
   "source": [
    "%load_ext autoreload\n",
    "%autoreload 2\n",
    "%matplotlib inline"
   ]
  },
  {
   "cell_type": "code",
   "execution_count": 4,
   "metadata": {},
   "outputs": [],
   "source": [
    "import cv2\n",
    "import numpy as np\n",
    "from copy_paste import CopyPaste\n",
    "from coco import CocoDetectionCP\n",
    "from visualize import display_instances\n",
    "import albumentations as A\n",
    "import random\n",
    "from matplotlib import pyplot as plt"
   ]
  },
  {
   "cell_type": "code",
   "execution_count": 5,
   "metadata": {},
   "outputs": [
    {
     "ename": "ModuleNotFoundError",
     "evalue": "No module named 'pycocotools'",
     "output_type": "error",
     "traceback": [
      "\u001b[0;31m---------------------------------------------------------------------------\u001b[0m",
      "\u001b[0;31mModuleNotFoundError\u001b[0m                       Traceback (most recent call last)",
      "Cell \u001b[0;32mIn[5], line 9\u001b[0m\n\u001b[1;32m      1\u001b[0m transform \u001b[38;5;241m=\u001b[39m A\u001b[38;5;241m.\u001b[39mCompose([\n\u001b[1;32m      2\u001b[0m         A\u001b[38;5;241m.\u001b[39mRandomScale(scale_limit\u001b[38;5;241m=\u001b[39m(\u001b[38;5;241m-\u001b[39m\u001b[38;5;241m0.9\u001b[39m, \u001b[38;5;241m1\u001b[39m), p\u001b[38;5;241m=\u001b[39m\u001b[38;5;241m1\u001b[39m), \u001b[38;5;66;03m#LargeScaleJitter from scale of 0.1 to 2\u001b[39;00m\n\u001b[1;32m      3\u001b[0m         A\u001b[38;5;241m.\u001b[39mPadIfNeeded(\u001b[38;5;241m256\u001b[39m, \u001b[38;5;241m256\u001b[39m, border_mode\u001b[38;5;241m=\u001b[39m\u001b[38;5;241m0\u001b[39m), \u001b[38;5;66;03m#pads with image in the center, not the top left like the paper\u001b[39;00m\n\u001b[0;32m   (...)\u001b[0m\n\u001b[1;32m      6\u001b[0m     ], bbox_params\u001b[38;5;241m=\u001b[39mA\u001b[38;5;241m.\u001b[39mBboxParams(\u001b[38;5;28mformat\u001b[39m\u001b[38;5;241m=\u001b[39m\u001b[38;5;124m\"\u001b[39m\u001b[38;5;124mcoco\u001b[39m\u001b[38;5;124m\"\u001b[39m, min_visibility\u001b[38;5;241m=\u001b[39m\u001b[38;5;241m0.05\u001b[39m)\n\u001b[1;32m      7\u001b[0m )\n\u001b[0;32m----> 9\u001b[0m data \u001b[38;5;241m=\u001b[39m CocoDetectionCP(\n\u001b[1;32m     10\u001b[0m     \u001b[38;5;124m'\u001b[39m\u001b[38;5;124m../../datasets/coco/train2014/\u001b[39m\u001b[38;5;124m'\u001b[39m, \n\u001b[1;32m     11\u001b[0m     \u001b[38;5;124m'\u001b[39m\u001b[38;5;124m../../datasets/coco/annotations/instances_train2014.json\u001b[39m\u001b[38;5;124m'\u001b[39m, \n\u001b[1;32m     12\u001b[0m     transform\n\u001b[1;32m     13\u001b[0m )\n",
      "File \u001b[0;32m~/Desktop/Hirsch_Research/coco.py:40\u001b[0m, in \u001b[0;36mCocoDetectionCP.__init__\u001b[0;34m(self, root, annFile, transforms)\u001b[0m\n\u001b[1;32m     34\u001b[0m \u001b[38;5;28;01mdef\u001b[39;00m \u001b[38;5;21m__init__\u001b[39m(\n\u001b[1;32m     35\u001b[0m     \u001b[38;5;28mself\u001b[39m,\n\u001b[1;32m     36\u001b[0m     root,\n\u001b[1;32m     37\u001b[0m     annFile,\n\u001b[1;32m     38\u001b[0m     transforms\n\u001b[1;32m     39\u001b[0m ):\n\u001b[0;32m---> 40\u001b[0m     \u001b[38;5;28msuper\u001b[39m(CocoDetectionCP, \u001b[38;5;28mself\u001b[39m)\u001b[38;5;241m.\u001b[39m\u001b[38;5;21m__init__\u001b[39m(\n\u001b[1;32m     41\u001b[0m         root, annFile, \u001b[38;5;28;01mNone\u001b[39;00m, \u001b[38;5;28;01mNone\u001b[39;00m, transforms\n\u001b[1;32m     42\u001b[0m     )\n\u001b[1;32m     44\u001b[0m     \u001b[38;5;66;03m# filter images without detection annotations\u001b[39;00m\n\u001b[1;32m     45\u001b[0m     ids \u001b[38;5;241m=\u001b[39m []\n",
      "File \u001b[0;32m~/anaconda3/lib/python3.11/site-packages/torchvision/datasets/coco.py:34\u001b[0m, in \u001b[0;36mCocoDetection.__init__\u001b[0;34m(self, root, annFile, transform, target_transform, transforms)\u001b[0m\n\u001b[1;32m     25\u001b[0m \u001b[38;5;28;01mdef\u001b[39;00m \u001b[38;5;21m__init__\u001b[39m(\n\u001b[1;32m     26\u001b[0m     \u001b[38;5;28mself\u001b[39m,\n\u001b[1;32m     27\u001b[0m     root: \u001b[38;5;28mstr\u001b[39m,\n\u001b[0;32m   (...)\u001b[0m\n\u001b[1;32m     31\u001b[0m     transforms: Optional[Callable] \u001b[38;5;241m=\u001b[39m \u001b[38;5;28;01mNone\u001b[39;00m,\n\u001b[1;32m     32\u001b[0m ) \u001b[38;5;241m-\u001b[39m\u001b[38;5;241m>\u001b[39m \u001b[38;5;28;01mNone\u001b[39;00m:\n\u001b[1;32m     33\u001b[0m     \u001b[38;5;28msuper\u001b[39m()\u001b[38;5;241m.\u001b[39m\u001b[38;5;21m__init__\u001b[39m(root, transforms, transform, target_transform)\n\u001b[0;32m---> 34\u001b[0m     \u001b[38;5;28;01mfrom\u001b[39;00m \u001b[38;5;21;01mpycocotools\u001b[39;00m\u001b[38;5;21;01m.\u001b[39;00m\u001b[38;5;21;01mcoco\u001b[39;00m \u001b[38;5;28;01mimport\u001b[39;00m COCO\n\u001b[1;32m     36\u001b[0m     \u001b[38;5;28mself\u001b[39m\u001b[38;5;241m.\u001b[39mcoco \u001b[38;5;241m=\u001b[39m COCO(annFile)\n\u001b[1;32m     37\u001b[0m     \u001b[38;5;28mself\u001b[39m\u001b[38;5;241m.\u001b[39mids \u001b[38;5;241m=\u001b[39m \u001b[38;5;28mlist\u001b[39m(\u001b[38;5;28msorted\u001b[39m(\u001b[38;5;28mself\u001b[39m\u001b[38;5;241m.\u001b[39mcoco\u001b[38;5;241m.\u001b[39mimgs\u001b[38;5;241m.\u001b[39mkeys()))\n",
      "\u001b[0;31mModuleNotFoundError\u001b[0m: No module named 'pycocotools'"
     ]
    }
   ],
   "source": [
    "transform = A.Compose([\n",
    "        A.RandomScale(scale_limit=(-0.9, 1), p=1), #LargeScaleJitter from scale of 0.1 to 2\n",
    "        A.PadIfNeeded(256, 256, border_mode=0), #pads with image in the center, not the top left like the paper\n",
    "        A.RandomCrop(256, 256),\n",
    "        CopyPaste(blend=True, sigma=1, pct_objects_paste=0.8, p=1.) #pct_objects_paste is a guess\n",
    "    ], bbox_params=A.BboxParams(format=\"coco\", min_visibility=0.05)\n",
    ")\n",
    "\n",
    "data = CocoDetectionCP(\n",
    "    '../../datasets/coco/train2014/', \n",
    "    '../../datasets/coco/annotations/instances_train2014.json', \n",
    "    transform\n",
    ")"
   ]
  },
  {
   "cell_type": "code",
   "execution_count": 13,
   "metadata": {},
   "outputs": [
    {
     "ename": "TypeError",
     "evalue": "super(type, obj): obj must be an instance or subtype of type",
     "output_type": "error",
     "traceback": [
      "\u001b[0;31m---------------------------------------------------------------------------\u001b[0m",
      "\u001b[0;31mTypeError\u001b[0m                                 Traceback (most recent call last)",
      "Cell \u001b[0;32mIn[13], line 21\u001b[0m\n\u001b[1;32m     13\u001b[0m c \u001b[38;5;241m=\u001b[39m data[\u001b[38;5;124m'\u001b[39m\u001b[38;5;124mganglia_certain_map\u001b[39m\u001b[38;5;124m'\u001b[39m]\u001b[38;5;241m.\u001b[39msqueeze(dim\u001b[38;5;241m=\u001b[39m\u001b[38;5;241m0\u001b[39m)\u001b[38;5;241m.\u001b[39mnumpy()\n\u001b[1;32m     16\u001b[0m \u001b[38;5;66;03m# Define the transformation pipeline (excluding CopyPaste for simplicity)\u001b[39;00m\n\u001b[1;32m     17\u001b[0m transform \u001b[38;5;241m=\u001b[39m A\u001b[38;5;241m.\u001b[39mCompose([\n\u001b[1;32m     18\u001b[0m     A\u001b[38;5;241m.\u001b[39mRandomScale(scale_limit\u001b[38;5;241m=\u001b[39m(\u001b[38;5;241m-\u001b[39m\u001b[38;5;241m0.9\u001b[39m, \u001b[38;5;241m1\u001b[39m), p\u001b[38;5;241m=\u001b[39m\u001b[38;5;241m1\u001b[39m),\n\u001b[1;32m     19\u001b[0m     A\u001b[38;5;241m.\u001b[39mPadIfNeeded(\u001b[38;5;241m256\u001b[39m, \u001b[38;5;241m256\u001b[39m, border_mode\u001b[38;5;241m=\u001b[39m\u001b[38;5;241m0\u001b[39m),\n\u001b[1;32m     20\u001b[0m     A\u001b[38;5;241m.\u001b[39mRandomCrop(\u001b[38;5;241m256\u001b[39m, \u001b[38;5;241m256\u001b[39m),\n\u001b[0;32m---> 21\u001b[0m     CopyPaste(blend\u001b[38;5;241m=\u001b[39m\u001b[38;5;28;01mTrue\u001b[39;00m, sigma\u001b[38;5;241m=\u001b[39m\u001b[38;5;241m1\u001b[39m, pct_objects_paste\u001b[38;5;241m=\u001b[39m\u001b[38;5;241m0.8\u001b[39m, p\u001b[38;5;241m=\u001b[39m\u001b[38;5;241m1.\u001b[39m)\n\u001b[1;32m     22\u001b[0m     \u001b[38;5;66;03m# CopyPaste could be included here if applicable\u001b[39;00m\n\u001b[1;32m     23\u001b[0m ])\n\u001b[1;32m     25\u001b[0m \u001b[38;5;66;03m# Apply transformations\u001b[39;00m\n\u001b[1;32m     26\u001b[0m transformed \u001b[38;5;241m=\u001b[39m transform(image\u001b[38;5;241m=\u001b[39mi)\n",
      "File \u001b[0;32m~/Desktop/Hirsch_Research/copy_paste.py:112\u001b[0m, in \u001b[0;36mCopyPaste.__init__\u001b[0;34m(self, blend, sigma, pct_objects_paste, max_paste_objects, p, always_apply)\u001b[0m\n\u001b[1;32m    103\u001b[0m \u001b[38;5;28;01mdef\u001b[39;00m \u001b[38;5;21m__init__\u001b[39m(\n\u001b[1;32m    104\u001b[0m     \u001b[38;5;28mself\u001b[39m,\n\u001b[1;32m    105\u001b[0m     blend\u001b[38;5;241m=\u001b[39m\u001b[38;5;28;01mTrue\u001b[39;00m,\n\u001b[0;32m   (...)\u001b[0m\n\u001b[1;32m    110\u001b[0m     always_apply\u001b[38;5;241m=\u001b[39m\u001b[38;5;28;01mFalse\u001b[39;00m\n\u001b[1;32m    111\u001b[0m ):\n\u001b[0;32m--> 112\u001b[0m     \u001b[38;5;28msuper\u001b[39m(CopyPaste, \u001b[38;5;28mself\u001b[39m)\u001b[38;5;241m.\u001b[39m\u001b[38;5;21m__init__\u001b[39m(always_apply, p)\n\u001b[1;32m    113\u001b[0m     \u001b[38;5;28mself\u001b[39m\u001b[38;5;241m.\u001b[39mblend \u001b[38;5;241m=\u001b[39m blend\n\u001b[1;32m    114\u001b[0m     \u001b[38;5;28mself\u001b[39m\u001b[38;5;241m.\u001b[39msigma \u001b[38;5;241m=\u001b[39m sigma\n",
      "\u001b[0;31mTypeError\u001b[0m: super(type, obj): obj must be an instance or subtype of type"
     ]
    }
   ],
   "source": [
    "import torch\n",
    "import cv2\n",
    "import numpy as np\n",
    "import albumentations as A\n",
    "from matplotlib import pyplot as plt\n",
    "\n",
    "# Load your data\n",
    "data = torch.load(\"ganglia_test/has_269_S16-1197 B3.pt\")\n",
    "\n",
    "# Extract images and maps, and convert them to numpy for visualization and processing\n",
    "i = data['imgs'].squeeze(dim=0).numpy().transpose(1, 2, 0)  # Convert from torch to numpy and CHW to HWC format\n",
    "p = data['ganglia_potential_map'].squeeze(dim=0).numpy()\n",
    "c = data['ganglia_certain_map'].squeeze(dim=0).numpy()\n",
    "\n",
    "\n",
    "# Define the transformation pipeline (excluding CopyPaste for simplicity)\n",
    "transform = A.Compose([\n",
    "    A.RandomScale(scale_limit=(-0.9, 1), p=1),\n",
    "    A.PadIfNeeded(256, 256, border_mode=0),\n",
    "    A.RandomCrop(256, 256),\n",
    "    CopyPaste(blend=True, sigma=1, pct_objects_paste=0.8, p=1.)\n",
    "    # CopyPaste could be included here if applicable\n",
    "])\n",
    "\n",
    "# Apply transformations\n",
    "transformed = transform(image=i)\n",
    "transformed_image = transformed[\"image\"]\n",
    "\n",
    "# Visualization\n",
    "f, ax = plt.subplots(1, 2, figsize=(16, 8))\n",
    "ax[0].imshow(i)\n",
    "ax[0].set_title('Original Image')\n",
    "ax[1].imshow(transformed_image)\n",
    "ax[1].set_title('Transformed Image')\n",
    "plt.show()"
   ]
  },
  {
   "cell_type": "code",
   "execution_count": 14,
   "metadata": {},
   "outputs": [],
   "source": [
    "import cv2\n",
    "import numpy as np\n",
    "import albumentations as A\n",
    "from copy import deepcopy\n",
    "from skimage.filters import gaussian\n",
    "\n",
    "def image_copy_paste(img, paste_img, alpha, blend=True, sigma=1):\n",
    "    if alpha is not None:\n",
    "        if blend:\n",
    "            alpha = gaussian(alpha, sigma=sigma, preserve_range=True)\n",
    "\n",
    "        img_dtype = img.dtype\n",
    "        alpha = alpha[..., None]  # Ensure alpha channel is correctly shaped\n",
    "        img = paste_img * alpha + img * (1 - alpha)\n",
    "        img = img.astype(img_dtype)\n",
    "\n",
    "    return img\n",
    "\n",
    "class CopyPaste(A.DualTransform):\n",
    "    def __init__(\n",
    "        self,\n",
    "        blend=True,\n",
    "        sigma=3,\n",
    "        p=0.5,\n",
    "        always_apply=False\n",
    "    ):\n",
    "        super(CopyPaste, self).__init__(always_apply, p)\n",
    "        self.blend = blend\n",
    "        self.sigma = sigma\n",
    "\n",
    "    def apply(self, img, paste_img=None, alpha=None, **params):\n",
    "        \"\"\"Applies the copy-paste augmentation.\"\"\"\n",
    "        if paste_img is None or alpha is None:\n",
    "            return img  # Return original if no paste_img or alpha provided\n",
    "        return image_copy_paste(img, paste_img, alpha, blend=self.blend, sigma=self.sigma)\n",
    "\n",
    "    def get_transform_init_args_names(self):\n",
    "        return (\"blend\", \"sigma\")\n",
    "\n",
    "    def get_params_dependent_on_targets(self, params):\n",
    "        # Example: Extracting `paste_img` and `alpha` from params\n",
    "        paste_img = params.get('paste_img')\n",
    "        alpha = params.get('alpha')\n",
    "        return {\"paste_img\": paste_img, \"alpha\": alpha}\n",
    "\n",
    "    def apply_to_mask(self, mask, **params):\n",
    "        # Modify if you want to apply something specific to masks\n",
    "        return mask\n",
    "\n",
    "# Example usage with your data\n",
    "transform = A.Compose([\n",
    "    CopyPaste(p=1.0)  # Adjust parameters as needed\n",
    "], additional_targets={'paste_img': 'image', 'alpha': 'mask'})  # Define additional targets if needed\n",
    "\n",
    "# Assuming you have 'i' (image), 'p' (potential map), and 'c' (certain map) loaded\n",
    "# You would need to adjust how you create `paste_img` and `alpha` for your specific use case\n",
    "# Example: creating an alpha mask based on 'p' or 'c', and defining a paste_img\n",
    "\n",
    "# Applying transformation\n",
    "# This is an illustrative example, adjust 'image', 'paste_img', and 'alpha' as per your data\n",
    "transformed = transform(image=i, paste_img=i, alpha=p)\n",
    "transformed_image = transformed[\"image\"]\n",
    "\n",
    "# Visualization (Adjust as per your previous visualization code)\n"
   ]
  },
  {
   "cell_type": "code",
   "execution_count": 17,
   "metadata": {},
   "outputs": [
    {
     "name": "stderr",
     "output_type": "stream",
     "text": [
      "[autoreload of copy_paste failed: Traceback (most recent call last):\n",
      "  File \"/home/anthony/anaconda3/lib/python3.11/site-packages/IPython/extensions/autoreload.py\", line 276, in check\n",
      "    superreload(m, reload, self.old_objects)\n",
      "  File \"/home/anthony/anaconda3/lib/python3.11/site-packages/IPython/extensions/autoreload.py\", line 475, in superreload\n",
      "    module = reload(module)\n",
      "             ^^^^^^^^^^^^^^\n",
      "  File \"/home/anthony/anaconda3/lib/python3.11/importlib/__init__.py\", line 169, in reload\n",
      "    _bootstrap._exec(spec, module)\n",
      "  File \"<frozen importlib._bootstrap>\", line 621, in _exec\n",
      "  File \"<frozen importlib._bootstrap_external>\", line 940, in exec_module\n",
      "  File \"<frozen importlib._bootstrap>\", line 241, in _call_with_frames_removed\n",
      "  File \"/home/anthony/Desktop/Hirsch_Research/copy_paste.py\", line 61, in <module>\n",
      "    transformed = transform(image=i, paste_img=i, alpha=p)\n",
      "                                  ^\n",
      "NameError: name 'i' is not defined\n",
      "]\n"
     ]
    },
    {
     "ename": "TypeError",
     "evalue": "CopyPaste.__init__() got an unexpected keyword argument 'pct_objects_paste'",
     "output_type": "error",
     "traceback": [
      "\u001b[0;31m---------------------------------------------------------------------------\u001b[0m",
      "\u001b[0;31mTypeError\u001b[0m                                 Traceback (most recent call last)",
      "Cell \u001b[0;32mIn[17], line 21\u001b[0m\n\u001b[1;32m     13\u001b[0m c \u001b[38;5;241m=\u001b[39m data[\u001b[38;5;124m'\u001b[39m\u001b[38;5;124mganglia_certain_map\u001b[39m\u001b[38;5;124m'\u001b[39m]\u001b[38;5;241m.\u001b[39msqueeze(dim\u001b[38;5;241m=\u001b[39m\u001b[38;5;241m0\u001b[39m)\u001b[38;5;241m.\u001b[39mnumpy()\n\u001b[1;32m     16\u001b[0m \u001b[38;5;66;03m# Define the transformation pipeline (excluding CopyPaste for simplicity)\u001b[39;00m\n\u001b[1;32m     17\u001b[0m transform \u001b[38;5;241m=\u001b[39m A\u001b[38;5;241m.\u001b[39mCompose([\n\u001b[1;32m     18\u001b[0m     A\u001b[38;5;241m.\u001b[39mRandomScale(scale_limit\u001b[38;5;241m=\u001b[39m(\u001b[38;5;241m-\u001b[39m\u001b[38;5;241m0.9\u001b[39m, \u001b[38;5;241m1\u001b[39m), p\u001b[38;5;241m=\u001b[39m\u001b[38;5;241m1\u001b[39m),\n\u001b[1;32m     19\u001b[0m     A\u001b[38;5;241m.\u001b[39mPadIfNeeded(\u001b[38;5;241m256\u001b[39m, \u001b[38;5;241m256\u001b[39m, border_mode\u001b[38;5;241m=\u001b[39m\u001b[38;5;241m0\u001b[39m),\n\u001b[1;32m     20\u001b[0m     A\u001b[38;5;241m.\u001b[39mRandomCrop(\u001b[38;5;241m256\u001b[39m, \u001b[38;5;241m256\u001b[39m),\n\u001b[0;32m---> 21\u001b[0m     CopyPaste(blend\u001b[38;5;241m=\u001b[39m\u001b[38;5;28;01mTrue\u001b[39;00m, sigma\u001b[38;5;241m=\u001b[39m\u001b[38;5;241m1\u001b[39m, pct_objects_paste\u001b[38;5;241m=\u001b[39m\u001b[38;5;241m0.8\u001b[39m, p\u001b[38;5;241m=\u001b[39m\u001b[38;5;241m1.\u001b[39m)\n\u001b[1;32m     22\u001b[0m     \u001b[38;5;66;03m# CopyPaste could be included here if applicable\u001b[39;00m\n\u001b[1;32m     23\u001b[0m ])\n\u001b[1;32m     25\u001b[0m \u001b[38;5;66;03m# Apply transformations\u001b[39;00m\n\u001b[1;32m     26\u001b[0m transformed \u001b[38;5;241m=\u001b[39m transform(image\u001b[38;5;241m=\u001b[39mi)\n",
      "\u001b[0;31mTypeError\u001b[0m: CopyPaste.__init__() got an unexpected keyword argument 'pct_objects_paste'"
     ]
    }
   ],
   "source": [
    "import torch\n",
    "import cv2\n",
    "import numpy as np\n",
    "import albumentations as A\n",
    "from matplotlib import pyplot as plt\n",
    "\n",
    "# Load your data\n",
    "data = torch.load(\"ganglia_test/has_269_S16-1197 B3.pt\")\n",
    "\n",
    "# Extract images and maps, and convert them to numpy for visualization and processing\n",
    "i = data['imgs'].squeeze(dim=0).numpy().transpose(1, 2, 0)  # Convert from torch to numpy and CHW to HWC format\n",
    "p = data['ganglia_potential_map'].squeeze(dim=0).numpy()\n",
    "c = data['ganglia_certain_map'].squeeze(dim=0).numpy()\n",
    "\n",
    "\n",
    "# Define the transformation pipeline (excluding CopyPaste for simplicity)\n",
    "transform = A.Compose([\n",
    "    A.RandomScale(scale_limit=(-0.9, 1), p=1),\n",
    "    A.PadIfNeeded(256, 256, border_mode=0),\n",
    "    A.RandomCrop(256, 256),\n",
    "    CopyPaste(blend=True, sigma=1, pct_objects_paste=0.8, p=1.)\n",
    "    # CopyPaste could be included here if applicable\n",
    "])\n",
    "\n",
    "# Apply transformations\n",
    "transformed = transform(image=i)\n",
    "transformed_image = transformed[\"image\"]\n",
    "\n",
    "# Visualization\n",
    "f, ax = plt.subplots(1, 2, figsize=(16, 8))\n",
    "ax[0].imshow(i)\n",
    "ax[0].set_title('Original Image')\n",
    "ax[1].imshow(transformed_image)\n",
    "ax[1].set_title('Transformed Image')\n",
    "plt.show()"
   ]
  },
  {
   "cell_type": "code",
   "execution_count": null,
   "metadata": {},
   "outputs": [],
   "source": []
  }
 ],
 "metadata": {
  "kernelspec": {
   "display_name": "Python 3 (ipykernel)",
   "language": "python",
   "name": "python3"
  },
  "language_info": {
   "codemirror_mode": {
    "name": "ipython",
    "version": 3
   },
   "file_extension": ".py",
   "mimetype": "text/x-python",
   "name": "python",
   "nbconvert_exporter": "python",
   "pygments_lexer": "ipython3",
   "version": "3.11.5"
  }
 },
 "nbformat": 4,
 "nbformat_minor": 4
}
