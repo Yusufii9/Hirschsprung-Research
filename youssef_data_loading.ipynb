{
 "cells": [
  {
   "cell_type": "code",
   "execution_count": 6,
   "id": "c91a3440",
   "metadata": {},
   "outputs": [],
   "source": [
    "from torch.utils.data import Dataset\n",
    "import torch\n",
    "from torchvision.transforms import (\n",
    "    Compose,\n",
    "    Normalize,\n",
    "    CenterCrop\n",
    ")\n",
    "import torchvision\n",
    "import os"
   ]
  },
  {
   "cell_type": "code",
   "execution_count": null,
   "id": "0fa7d850",
   "metadata": {},
   "outputs": [],
   "source": [
    "# Going to be edited mores\n",
    "class HirschImagesDataset(Dataset):\n",
    "    def __init__(self, data_file_path, return_labels=False):\n",
    "        img_and_label_paths = torch.load(os.listdir((data_file_path)))\n",
    "        self.return_labels = return_labels\n",
    "        self.imgs = img_and_label_paths['image_paths']\n",
    "        self.labels = img_and_label_paths['label_paths']\n",
    "        print(self.labels[0])\n",
    "        print(len(self.labels))\n",
    "        self.augment = augment_image_with_map(_img, _map)\n",
    " \n",
    "    # def set_image_size(self, img_size):\n",
    "    #     self.img_size = img_size\n",
    " \n",
    "    def __len__(self):\n",
    "        return len(self.labels)\n",
    " \n",
    "    def __getitem__(self, index):\n",
    "        image_path = self.imgs[index]\n",
    "        image = torch.load(image_path)\n",
    " \n",
    " \n",
    "        return muscle_image, muscle_map"
   ]
  }
 ],
 "metadata": {
  "kernelspec": {
   "display_name": "Python 3 (ipykernel)",
   "language": "python",
   "name": "python3"
  },
  "language_info": {
   "codemirror_mode": {
    "name": "ipython",
    "version": 3
   },
   "file_extension": ".py",
   "mimetype": "text/x-python",
   "name": "python",
   "nbconvert_exporter": "python",
   "pygments_lexer": "ipython3",
   "version": "3.11.5"
  }
 },
 "nbformat": 4,
 "nbformat_minor": 5
}
